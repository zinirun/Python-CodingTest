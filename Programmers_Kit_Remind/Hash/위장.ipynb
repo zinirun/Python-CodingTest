{
 "cells": [
  {
   "cell_type": "code",
   "execution_count": 1,
   "metadata": {},
   "outputs": [],
   "source": [
    "def solution(clothes):\n",
    "    d = {}\n",
    "    for i in clothes:\n",
    "        if i[1] in d:\n",
    "            d[i[1]]+=1\n",
    "        else:\n",
    "            d[i[1]]=1\n",
    "    cnt = 1\n",
    "    for i in d.values():\n",
    "        cnt *= (i+1)\n",
    "    return cnt - 1"
   ]
  },
  {
   "cell_type": "code",
   "execution_count": 2,
   "metadata": {},
   "outputs": [],
   "source": [
    "def solution(clothes):\n",
    "    d = {}\n",
    "    for _, category in clothes:\n",
    "        if category in d:\n",
    "            d[category]+=1\n",
    "        else:\n",
    "            d[category]=1\n",
    "    \n",
    "    ans = 1\n",
    "    for count in d.values():\n",
    "        ans *= (count + 1)\n",
    "    return ans - 1"
   ]
  },
  {
   "cell_type": "code",
   "execution_count": null,
   "metadata": {},
   "outputs": [],
   "source": []
  }
 ],
 "metadata": {
  "hide_input": false,
  "kernelspec": {
   "display_name": "Python 3",
   "language": "python",
   "name": "python3"
  },
  "language_info": {
   "codemirror_mode": {
    "name": "ipython",
    "version": 3
   },
   "file_extension": ".py",
   "mimetype": "text/x-python",
   "name": "python",
   "nbconvert_exporter": "python",
   "pygments_lexer": "ipython3",
   "version": "3.7.6"
  }
 },
 "nbformat": 4,
 "nbformat_minor": 4
}
