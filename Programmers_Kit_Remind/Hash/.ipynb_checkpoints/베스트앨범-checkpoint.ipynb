{
 "cells": [
  {
   "cell_type": "code",
   "execution_count": null,
   "metadata": {},
   "outputs": [],
   "source": [
    "from collections import defaultdict\n",
    "\n",
    "def solution(genres, plays):\n",
    "    time_by_genres = defaultdict(int)\n",
    "    songs_by_genres = defaultdict(list)\n",
    "    for song_id, genre, time in zip(uuid(), genres, plays):\n",
    "        time_by_genres[genre] += time\n",
    "        songs_by_genres[genre].append((-time, song_id))\n",
    "\n",
    "    genres_in_order = sorted(time_by_genres.keys(), key = lambda g:time_by_genres[g], reverse=True)\n",
    "\n",
    "    album = []\n",
    "    for genre in genres_in_order:\n",
    "        for _, song_id in sorted(songs_by_genres[genre])[:2]:\n",
    "            album.append(song_id)\n",
    "    return album\n",
    "\n",
    "def uuid():\n",
    "    i = 0\n",
    "    while True:\n",
    "        yield i\n",
    "        i += 1"
   ]
  }
 ],
 "metadata": {
  "hide_input": false,
  "kernelspec": {
   "display_name": "Python 3",
   "language": "python",
   "name": "python3"
  },
  "language_info": {
   "codemirror_mode": {
    "name": "ipython",
    "version": 3
   },
   "file_extension": ".py",
   "mimetype": "text/x-python",
   "name": "python",
   "nbconvert_exporter": "python",
   "pygments_lexer": "ipython3",
   "version": "3.7.6"
  }
 },
 "nbformat": 4,
 "nbformat_minor": 4
}
