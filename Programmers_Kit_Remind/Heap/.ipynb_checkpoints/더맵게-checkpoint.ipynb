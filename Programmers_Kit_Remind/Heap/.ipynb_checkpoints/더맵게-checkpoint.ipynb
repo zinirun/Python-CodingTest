{
 "cells": [
  {
   "cell_type": "code",
   "execution_count": 1,
   "metadata": {},
   "outputs": [],
   "source": [
    "import heapq as h\n",
    "def solution(s, K):\n",
    "    cnt = 0\n",
    "    heap = []\n",
    "    for i in s: h.heappush(heap, i)\n",
    "    while len(heap)>1:\n",
    "        if heap[0] >= K: break\n",
    "        h.heappush(heap, h.heappop(heap)+h.heappop(heap)*2)\n",
    "        cnt += 1\n",
    "    return cnt if heap[0] >= K else -1"
   ]
  },
  {
   "cell_type": "code",
   "execution_count": null,
   "metadata": {},
   "outputs": [],
   "source": [
    "import heapq\n",
    "def solution(scoville, K):\n",
    "    heapq.heapify(scoville)\n",
    "    count = 0\n",
    "    while len(scoville) > 1:\n",
    "        if scoville[0] >= K: return count\n",
    "        first, second = heapq.heappop(scoville), heapq.heappop(scoville)\n",
    "        count += 1\n",
    "        heapq.heappush(scoville, first + second * 2)\n",
    "    return count if scoville[0] >= K else -1"
   ]
  }
 ],
 "metadata": {
  "hide_input": false,
  "kernelspec": {
   "display_name": "Python 3",
   "language": "python",
   "name": "python3"
  },
  "language_info": {
   "codemirror_mode": {
    "name": "ipython",
    "version": 3
   },
   "file_extension": ".py",
   "mimetype": "text/x-python",
   "name": "python",
   "nbconvert_exporter": "python",
   "pygments_lexer": "ipython3",
   "version": "3.7.6"
  }
 },
 "nbformat": 4,
 "nbformat_minor": 4
}
