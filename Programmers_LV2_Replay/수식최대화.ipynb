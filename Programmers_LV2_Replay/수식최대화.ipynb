{
 "cells": [
  {
   "cell_type": "code",
   "execution_count": null,
   "metadata": {},
   "outputs": [],
   "source": [
    "import itertools\n",
    "def calc(op, n, expression):\n",
    "    if n == 2: return str(eval(expression))\n",
    "    return str(eval(op[n].join([calc(op, n+1, e) for e in expression.split(op[n])])))\n",
    "\n",
    "def solution(expression):\n",
    "    ans = 0\n",
    "    ops = list(itertools.permutations(['+', '-', '*'], 3))\n",
    "    for op in ops:\n",
    "        ans = max(ans, abs(int(calc(op, 0, expression))))\n",
    "    return ans"
   ]
  }
 ],
 "metadata": {
  "hide_input": false,
  "kernelspec": {
   "display_name": "Python 3",
   "language": "python",
   "name": "python3"
  },
  "language_info": {
   "codemirror_mode": {
    "name": "ipython",
    "version": 3
   },
   "file_extension": ".py",
   "mimetype": "text/x-python",
   "name": "python",
   "nbconvert_exporter": "python",
   "pygments_lexer": "ipython3",
   "version": "3.7.6"
  }
 },
 "nbformat": 4,
 "nbformat_minor": 4
}
