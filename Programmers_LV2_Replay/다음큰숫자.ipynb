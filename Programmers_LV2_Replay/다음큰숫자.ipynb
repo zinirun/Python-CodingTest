{
 "cells": [
  {
   "cell_type": "code",
   "execution_count": 1,
   "metadata": {},
   "outputs": [],
   "source": [
    "def solution(n):\n",
    "    s=n+1\n",
    "    N=str(bin(n)[2:]).count('1')\n",
    "    while True:\n",
    "        if str(bin(s)[2:]).count('1')==N:\n",
    "            return s\n",
    "        s+=1"
   ]
  },
  {
   "cell_type": "code",
   "execution_count": null,
   "metadata": {},
   "outputs": [],
   "source": [
    "def solution(n):\n",
    "    s = n\n",
    "    while True:\n",
    "        s += 1\n",
    "        if str(bin(s)[2:]).count('1') == str(bin(n)[2:]).count('1'):\n",
    "            return s"
   ]
  }
 ],
 "metadata": {
  "hide_input": false,
  "kernelspec": {
   "display_name": "Python 3",
   "language": "python",
   "name": "python3"
  },
  "language_info": {
   "codemirror_mode": {
    "name": "ipython",
    "version": 3
   },
   "file_extension": ".py",
   "mimetype": "text/x-python",
   "name": "python",
   "nbconvert_exporter": "python",
   "pygments_lexer": "ipython3",
   "version": "3.7.6"
  }
 },
 "nbformat": 4,
 "nbformat_minor": 4
}
