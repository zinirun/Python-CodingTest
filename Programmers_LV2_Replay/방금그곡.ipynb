{
 "cells": [
  {
   "cell_type": "code",
   "execution_count": null,
   "metadata": {},
   "outputs": [],
   "source": [
    "def getSeconds(s, e):\n",
    "    start_min, start_sec = map(int, s.split(':'))\n",
    "    end_min, end_sec = map(int, e.split(':'))\n",
    "    return (end_min - start_min)*60 + (end_sec - start_sec)\n",
    "    \n",
    "def swapSharp(s):\n",
    "    return s.replace('C#','0').replace('D#', '1').replace('F#', '2').replace('G#', '3').replace('A#', '4')\n",
    "\n",
    "def solution(m, musicinfos):\n",
    "    m = swapSharp(m)\n",
    "    matches = []\n",
    "    for i in musicinfos:\n",
    "        start, end, title, melody = i.split(',')\n",
    "        melody = swapSharp(melody)\n",
    "        time = getSeconds(start, end)\n",
    "        full_melody = (melody*1439)[:time]\n",
    "        if m in full_melody:\n",
    "            matches.append((title, time))\n",
    "    matches.sort(key=lambda x:x[1], reverse=True)\n",
    "    return matches[0][0] if matches else \"(None)\""
   ]
  }
 ],
 "metadata": {
  "hide_input": false,
  "kernelspec": {
   "display_name": "Python 3",
   "language": "python",
   "name": "python3"
  },
  "language_info": {
   "codemirror_mode": {
    "name": "ipython",
    "version": 3
   },
   "file_extension": ".py",
   "mimetype": "text/x-python",
   "name": "python",
   "nbconvert_exporter": "python",
   "pygments_lexer": "ipython3",
   "version": "3.7.6"
  }
 },
 "nbformat": 4,
 "nbformat_minor": 4
}
