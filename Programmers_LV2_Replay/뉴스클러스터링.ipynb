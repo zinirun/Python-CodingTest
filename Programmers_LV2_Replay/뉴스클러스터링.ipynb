{
 "cells": [
  {
   "cell_type": "code",
   "execution_count": 1,
   "metadata": {},
   "outputs": [],
   "source": [
    "def solution(str1, str2):\n",
    "    s1, s2 = [], []\n",
    "    for idx, s in enumerate(str1[:-1]):\n",
    "        if (s+str1[idx+1]).isalpha():\n",
    "            s1.append((s+str1[idx+1]).lower())\n",
    "    for idx, s in enumerate(str2[:-1]):\n",
    "        if (s+str2[idx+1]).isalpha():\n",
    "            s2.append((s+str2[idx+1]).lower())\n",
    "    sum=len(s1)+len(s2)\n",
    "    intersect=0\n",
    "    for i in s2:\n",
    "        if i in s1:\n",
    "            s1.remove(i)\n",
    "            intersect+=1\n",
    "    return int(intersect/(sum-intersect)*65536) if sum!=0 else 65536"
   ]
  },
  {
   "cell_type": "code",
   "execution_count": null,
   "metadata": {},
   "outputs": [],
   "source": [
    "def solution(str1, str2):\n",
    "    arr1 = [str1[i:i+2].lower() for i in range(len(str1)-1) if str1[i:i+2].isalpha()]\n",
    "    arr2 = [str2[i:i+2].lower() for i in range(len(str2)-1) if str2[i:i+2].isalpha()]\n",
    "    tot = len(arr1) + len(arr2)\n",
    "    intersect = 0\n",
    "    for i in arr1:\n",
    "        if i in arr2:\n",
    "            arr2.remove(i)\n",
    "            intersect += 1\n",
    "    return int(intersect / (tot - intersect) * 65536) if tot != 0 else 65536"
   ]
  }
 ],
 "metadata": {
  "hide_input": false,
  "kernelspec": {
   "display_name": "Python 3",
   "language": "python",
   "name": "python3"
  },
  "language_info": {
   "codemirror_mode": {
    "name": "ipython",
    "version": 3
   },
   "file_extension": ".py",
   "mimetype": "text/x-python",
   "name": "python",
   "nbconvert_exporter": "python",
   "pygments_lexer": "ipython3",
   "version": "3.7.6"
  }
 },
 "nbformat": 4,
 "nbformat_minor": 4
}
