{
 "cells": [
  {
   "cell_type": "code",
   "execution_count": null,
   "metadata": {},
   "outputs": [],
   "source": [
    "from itertools import combinations\n",
    "\n",
    "def solution(relation):\n",
    "    row = len(relation)\n",
    "    col = len(relation[0])\n",
    "    \n",
    "    # 전체 조합\n",
    "    candidates = []\n",
    "    for i in range(1, col + 1):\n",
    "        candidates.extend(combinations(range(col), i))\n",
    "\n",
    "    # 유일성\n",
    "    unique = []\n",
    "    for candi in candidates:\n",
    "        tmp = [tuple([item[i] for i in candi]) for item in relation]\n",
    "        if len(set(tmp)) == row:\n",
    "            unique.append(candi)\n",
    "\n",
    "    # 최소성\n",
    "    answer = set(unique)\n",
    "    for i in range(len(unique)):\n",
    "        for j in range(i + 1, len(unique)):\n",
    "            if len(unique[i]) == len(set(unique[i]) & set(unique[j])):\n",
    "                answer.discard(unique[j])\n",
    "\n",
    "    return len(answer)"
   ]
  }
 ],
 "metadata": {
  "hide_input": false,
  "kernelspec": {
   "display_name": "Python 3",
   "language": "python",
   "name": "python3"
  },
  "language_info": {
   "codemirror_mode": {
    "name": "ipython",
    "version": 3
   },
   "file_extension": ".py",
   "mimetype": "text/x-python",
   "name": "python",
   "nbconvert_exporter": "python",
   "pygments_lexer": "ipython3",
   "version": "3.7.6"
  }
 },
 "nbformat": 4,
 "nbformat_minor": 4
}
