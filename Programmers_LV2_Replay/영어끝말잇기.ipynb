{
 "cells": [
  {
   "cell_type": "code",
   "execution_count": 1,
   "metadata": {},
   "outputs": [],
   "source": [
    "import math\n",
    "def solution(n, words):\n",
    "    u=[]\n",
    "    for i, w in enumerate(words):\n",
    "        if i>0 and (u[-1][-1] != w[0] or w in u):\n",
    "            return [(i+1)%n if (i+1)%n!=0 else n,math.ceil((i+1)/n)]\n",
    "        u.append(w)\n",
    "    return [0,0]"
   ]
  },
  {
   "cell_type": "code",
   "execution_count": null,
   "metadata": {},
   "outputs": [],
   "source": [
    "def solution(n, words):\n",
    "    record = [words[0]]\n",
    "    for idx, val in enumerate(words[1:]):\n",
    "        if record[-1][-1] != val[0] or val in record:\n",
    "            return [(idx+1) % n + 1, (idx+1) // n + 1]\n",
    "        record.append(val)\n",
    "    return [0, 0]"
   ]
  }
 ],
 "metadata": {
  "hide_input": false,
  "kernelspec": {
   "display_name": "Python 3",
   "language": "python",
   "name": "python3"
  },
  "language_info": {
   "codemirror_mode": {
    "name": "ipython",
    "version": 3
   },
   "file_extension": ".py",
   "mimetype": "text/x-python",
   "name": "python",
   "nbconvert_exporter": "python",
   "pygments_lexer": "ipython3",
   "version": "3.7.6"
  }
 },
 "nbformat": 4,
 "nbformat_minor": 4
}
