{
 "cells": [
  {
   "cell_type": "code",
   "execution_count": 1,
   "metadata": {},
   "outputs": [],
   "source": [
    "def solution(n):\n",
    "    m=1\n",
    "    for i in range(1, n//2+1):\n",
    "        t=i\n",
    "        for j in range(i+1, n//2+2):\n",
    "            t+=j\n",
    "            if t==n:\n",
    "                m+=1\n",
    "                break\n",
    "            if t>n:\n",
    "                break\n",
    "    return m"
   ]
  },
  {
   "cell_type": "code",
   "execution_count": null,
   "metadata": {},
   "outputs": [],
   "source": [
    "def solution(n):\n",
    "    cnt = 1\n",
    "    for i in range(1, n//2 + 1):\n",
    "        t = i\n",
    "        for j in range(i+1, n//2 + 2):\n",
    "            t += j\n",
    "            if t == n:\n",
    "                cnt += 1; break\n",
    "            if t > n:\n",
    "                break\n",
    "    return cnt"
   ]
  }
 ],
 "metadata": {
  "hide_input": false,
  "kernelspec": {
   "display_name": "Python 3",
   "language": "python",
   "name": "python3"
  },
  "language_info": {
   "codemirror_mode": {
    "name": "ipython",
    "version": 3
   },
   "file_extension": ".py",
   "mimetype": "text/x-python",
   "name": "python",
   "nbconvert_exporter": "python",
   "pygments_lexer": "ipython3",
   "version": "3.7.6"
  }
 },
 "nbformat": 4,
 "nbformat_minor": 4
}
