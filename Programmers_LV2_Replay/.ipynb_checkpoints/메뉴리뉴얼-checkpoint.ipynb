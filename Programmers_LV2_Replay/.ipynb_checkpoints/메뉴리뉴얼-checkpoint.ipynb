{
 "cells": [
  {
   "cell_type": "code",
   "execution_count": null,
   "metadata": {},
   "outputs": [],
   "source": [
    "from itertools import combinations\n",
    "def solution(orders, course):\n",
    "    ret = []\n",
    "    for i in course:\n",
    "        d = {}\n",
    "        comb = []\n",
    "        for o in orders:\n",
    "            comb.extend(list(combinations(sorted(o), i)))\n",
    "        for c in comb:\n",
    "            s = ''.join(c)\n",
    "            if s in d:\n",
    "                d[s]+=1\n",
    "            else:\n",
    "                d[s]=1\n",
    "        for o in d:\n",
    "            if d[o] == max([d[o] for o in d]) and d[o] > 1:\n",
    "                ret.append(o)\n",
    "    return sorted(ret)"
   ]
  }
 ],
 "metadata": {
  "hide_input": false,
  "kernelspec": {
   "display_name": "Python 3",
   "language": "python",
   "name": "python3"
  },
  "language_info": {
   "codemirror_mode": {
    "name": "ipython",
    "version": 3
   },
   "file_extension": ".py",
   "mimetype": "text/x-python",
   "name": "python",
   "nbconvert_exporter": "python",
   "pygments_lexer": "ipython3",
   "version": "3.7.6"
  }
 },
 "nbformat": 4,
 "nbformat_minor": 4
}
