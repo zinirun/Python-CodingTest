{
 "cells": [
  {
   "cell_type": "code",
   "execution_count": 1,
   "metadata": {},
   "outputs": [],
   "source": [
    "from itertools import combinations\n",
    "def solution(nums):\n",
    "    s=list(map(sum,list(combinations(nums, 3))))\n",
    "    n=max(s)\n",
    "    a = [False,False] + [True]*(n-1)\n",
    "    primes=[]\n",
    "    for i in range(2,n+1):\n",
    "        if a[i]:\n",
    "            primes.append(i)\n",
    "            for j in range(2*i, n+1, i):\n",
    "                a[j] = False\n",
    "    return len([i for i in s if i in primes])"
   ]
  },
  {
   "cell_type": "code",
   "execution_count": null,
   "metadata": {},
   "outputs": [],
   "source": [
    "from itertools import combinations\n",
    "def solution(nums):\n",
    "    cases = list(map(sum,combinations(nums, 3)))\n",
    "    m = max(cases)\n",
    "    flags = [False, False] + [True]*(m-1)\n",
    "    primes = []\n",
    "    for i in range(2, m+1):\n",
    "        if flags[i]:\n",
    "            primes.append(i)\n",
    "            for j in range(i*2, m+1, i):\n",
    "                flags[j] = False\n",
    "    return len([i for i in cases if i in primes])"
   ]
  }
 ],
 "metadata": {
  "hide_input": false,
  "kernelspec": {
   "display_name": "Python 3",
   "language": "python",
   "name": "python3"
  },
  "language_info": {
   "codemirror_mode": {
    "name": "ipython",
    "version": 3
   },
   "file_extension": ".py",
   "mimetype": "text/x-python",
   "name": "python",
   "nbconvert_exporter": "python",
   "pygments_lexer": "ipython3",
   "version": "3.7.6"
  }
 },
 "nbformat": 4,
 "nbformat_minor": 4
}
