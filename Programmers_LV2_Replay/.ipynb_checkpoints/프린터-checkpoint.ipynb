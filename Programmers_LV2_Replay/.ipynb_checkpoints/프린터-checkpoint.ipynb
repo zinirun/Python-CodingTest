{
 "cells": [
  {
   "cell_type": "code",
   "execution_count": 1,
   "metadata": {},
   "outputs": [],
   "source": [
    "def solution(priorities, location):\n",
    "    p = []\n",
    "    pr = list(map(list,zip(priorities, range(len(priorities)))))\n",
    "    while(pr):\n",
    "        s = pr.pop(0)\n",
    "        if not pr:\n",
    "            p.append(s)\n",
    "            break\n",
    "        if s[0] >= max(map(lambda x:x[0],pr)):\n",
    "            p.append(s)\n",
    "        else:\n",
    "            pr.append(s)\n",
    "    return p.index(p[list(map(lambda x:x[1], p)).index(location)])+1"
   ]
  },
  {
   "cell_type": "code",
   "execution_count": null,
   "metadata": {},
   "outputs": [],
   "source": [
    "def solution(priorities, location):\n",
    "    p = []\n",
    "    wait = [(p,i) for i,p in enumerate(priorities)]\n",
    "    while(wait):\n",
    "        cur = wait.pop(0)\n",
    "        if not wait:\n",
    "            p.append(cur)\n",
    "            break\n",
    "        if cur[0] >= max(map(lambda x:x[0], wait)):\n",
    "            p.append(cur)\n",
    "        else:\n",
    "            wait.append(cur)\n",
    "    return list(map(lambda x:x[1],p)).index(location)+1"
   ]
  }
 ],
 "metadata": {
  "hide_input": false,
  "kernelspec": {
   "display_name": "Python 3",
   "language": "python",
   "name": "python3"
  },
  "language_info": {
   "codemirror_mode": {
    "name": "ipython",
    "version": 3
   },
   "file_extension": ".py",
   "mimetype": "text/x-python",
   "name": "python",
   "nbconvert_exporter": "python",
   "pygments_lexer": "ipython3",
   "version": "3.7.6"
  }
 },
 "nbformat": 4,
 "nbformat_minor": 4
}
