{
 "cells": [
  {
   "cell_type": "code",
   "execution_count": null,
   "metadata": {},
   "outputs": [],
   "source": [
    "def solution(board):\n",
    "    width = len(board[0])\n",
    "    height = len(board)\n",
    "    for x in range(1,height):\n",
    "        for y in range(1,width):\n",
    "            if board[x][y] == 1:\n",
    "                board[x][y] = min(board[x-1][y-1], min(board[x-1][y], board[x][y-1])) + 1\n",
    "    for i in board:\n",
    "        for j in i:\n",
    "            print(j, end=\" \")\n",
    "        print()\n",
    "    return max([item for row in board for item in row])**2"
   ]
  }
 ],
 "metadata": {
  "hide_input": false,
  "kernelspec": {
   "display_name": "Python 3",
   "language": "python",
   "name": "python3"
  },
  "language_info": {
   "codemirror_mode": {
    "name": "ipython",
    "version": 3
   },
   "file_extension": ".py",
   "mimetype": "text/x-python",
   "name": "python",
   "nbconvert_exporter": "python",
   "pygments_lexer": "ipython3",
   "version": "3.7.6"
  }
 },
 "nbformat": 4,
 "nbformat_minor": 4
}
