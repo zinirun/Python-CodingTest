{
 "cells": [
  {
   "cell_type": "code",
   "execution_count": 1,
   "metadata": {},
   "outputs": [],
   "source": [
    "def solution(skill, skill_trees):\n",
    "    cnt = 0\n",
    "    for i in skill_trees:\n",
    "        s_ = list(skill)\n",
    "        for s in i:\n",
    "            if s in s_:\n",
    "                if s == s_.pop(0):\n",
    "                    continue\n",
    "                else: break\n",
    "        else:\n",
    "            cnt += 1\n",
    "    return cnt"
   ]
  },
  {
   "cell_type": "code",
   "execution_count": null,
   "metadata": {},
   "outputs": [],
   "source": [
    "def solution(skill, skill_trees):\n",
    "    cnt = 0\n",
    "    for st in skill_trees:\n",
    "        _s = list(skill)\n",
    "        for s in st:\n",
    "            if s in skill:\n",
    "                if s == _s.pop(0):\n",
    "                    continue\n",
    "                break\n",
    "        else:\n",
    "            cnt += 1\n",
    "    return cnt"
   ]
  }
 ],
 "metadata": {
  "hide_input": false,
  "kernelspec": {
   "display_name": "Python 3",
   "language": "python",
   "name": "python3"
  },
  "language_info": {
   "codemirror_mode": {
    "name": "ipython",
    "version": 3
   },
   "file_extension": ".py",
   "mimetype": "text/x-python",
   "name": "python",
   "nbconvert_exporter": "python",
   "pygments_lexer": "ipython3",
   "version": "3.7.6"
  }
 },
 "nbformat": 4,
 "nbformat_minor": 4
}
