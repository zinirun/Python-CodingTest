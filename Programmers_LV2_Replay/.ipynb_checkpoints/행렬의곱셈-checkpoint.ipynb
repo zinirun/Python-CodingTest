{
 "cells": [
  {
   "cell_type": "code",
   "execution_count": 1,
   "metadata": {},
   "outputs": [],
   "source": [
    "def solution(arr1, arr2):\n",
    "    arr2 = list(map(list, zip(*arr2)))\n",
    "    r = []\n",
    "    for i_1, a_1 in enumerate(arr1):\n",
    "        t = []\n",
    "        for a_2 in arr2:\n",
    "            t.append(sum([a*b for a,b in zip(a_1, a_2)]))\n",
    "        r.append(t)\n",
    "    return r"
   ]
  },
  {
   "cell_type": "code",
   "execution_count": null,
   "metadata": {},
   "outputs": [],
   "source": [
    "import numpy as np\n",
    "def solution(arr1, arr2):\n",
    "    return np.dot(np.array(arr1), np.array(arr2)).tolist()"
   ]
  }
 ],
 "metadata": {
  "hide_input": false,
  "kernelspec": {
   "display_name": "Python 3",
   "language": "python",
   "name": "python3"
  },
  "language_info": {
   "codemirror_mode": {
    "name": "ipython",
    "version": 3
   },
   "file_extension": ".py",
   "mimetype": "text/x-python",
   "name": "python",
   "nbconvert_exporter": "python",
   "pygments_lexer": "ipython3",
   "version": "3.7.6"
  }
 },
 "nbformat": 4,
 "nbformat_minor": 4
}
