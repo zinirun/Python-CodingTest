{
 "cells": [
  {
   "cell_type": "code",
   "execution_count": 1,
   "metadata": {},
   "outputs": [],
   "source": [
    "import heapq as h\n",
    "def solution(scoville, K):\n",
    "    s = []\n",
    "    cnt=0\n",
    "    for i in scoville: h.heappush(s, i)\n",
    "    while len(s)>1:\n",
    "        if s[0]>=K: break\n",
    "        h.heappush(s, h.heappop(s)+h.heappop(s)*2)\n",
    "        cnt+=1\n",
    "    return cnt if s[0]>=K else -1"
   ]
  },
  {
   "cell_type": "code",
   "execution_count": null,
   "metadata": {},
   "outputs": [],
   "source": [
    "import heapq as h\n",
    "def solution(s, K):\n",
    "    cnt = 0\n",
    "    heap = []\n",
    "    for i in s: h.heappush(heap, i)\n",
    "    while len(heap)>1:\n",
    "        if heap[0] >= K: break\n",
    "        h.heappush(heap, h.heappop(heap)+h.heappop(heap)*2)\n",
    "        cnt += 1\n",
    "    return cnt if heap[0] >= K else -1"
   ]
  }
 ],
 "metadata": {
  "hide_input": false,
  "kernelspec": {
   "display_name": "Python 3",
   "language": "python",
   "name": "python3"
  },
  "language_info": {
   "codemirror_mode": {
    "name": "ipython",
    "version": 3
   },
   "file_extension": ".py",
   "mimetype": "text/x-python",
   "name": "python",
   "nbconvert_exporter": "python",
   "pygments_lexer": "ipython3",
   "version": "3.7.6"
  }
 },
 "nbformat": 4,
 "nbformat_minor": 4
}
