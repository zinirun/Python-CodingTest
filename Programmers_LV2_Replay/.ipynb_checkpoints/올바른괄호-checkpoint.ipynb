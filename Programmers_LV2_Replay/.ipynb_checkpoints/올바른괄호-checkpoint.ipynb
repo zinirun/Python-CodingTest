{
 "cells": [
  {
   "cell_type": "code",
   "execution_count": 1,
   "metadata": {},
   "outputs": [],
   "source": [
    "def solution(s):\n",
    "    p = []\n",
    "    for i in s:\n",
    "        if i == '(':\n",
    "            p.append('(')\n",
    "        else:\n",
    "            if len(p) > 0: p.pop()\n",
    "            else: return False\n",
    "    if len(p) != 0: return False\n",
    "    return True"
   ]
  },
  {
   "cell_type": "code",
   "execution_count": null,
   "metadata": {},
   "outputs": [],
   "source": [
    "def solution(s):\n",
    "    opn = 0\n",
    "    for i in s:\n",
    "        if opn < 0:\n",
    "            return False\n",
    "        if i == '(': opn += 1\n",
    "        else: opn -= 1\n",
    "    return True if opn == 0 else False"
   ]
  }
 ],
 "metadata": {
  "hide_input": false,
  "kernelspec": {
   "display_name": "Python 3",
   "language": "python",
   "name": "python3"
  },
  "language_info": {
   "codemirror_mode": {
    "name": "ipython",
    "version": 3
   },
   "file_extension": ".py",
   "mimetype": "text/x-python",
   "name": "python",
   "nbconvert_exporter": "python",
   "pygments_lexer": "ipython3",
   "version": "3.7.6"
  }
 },
 "nbformat": 4,
 "nbformat_minor": 4
}
