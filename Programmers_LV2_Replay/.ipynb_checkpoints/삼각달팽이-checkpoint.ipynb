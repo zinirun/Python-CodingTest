{
 "cells": [
  {
   "cell_type": "code",
   "execution_count": null,
   "metadata": {},
   "outputs": [],
   "source": [
    "def solution(n):\n",
    "    array = [[0] * n for _ in range(n)]\n",
    "    ret = []\n",
    "    num = 0\n",
    "    x, y = -1, 0\n",
    "    for i in range(n):\n",
    "        for j in range(i, n):\n",
    "            if i % 3 == 0:\n",
    "                x += 1\n",
    "            elif i % 3 == 1:\n",
    "                y += 1\n",
    "            else:\n",
    "                x -= 1\n",
    "                y -= 1\n",
    "            num += 1\n",
    "            array[x][y] = num\n",
    "    for a in array:\n",
    "        for i in a:\n",
    "            if i != 0: ret.append(i)\n",
    "    return ret"
   ]
  }
 ],
 "metadata": {
  "hide_input": false,
  "kernelspec": {
   "display_name": "Python 3",
   "language": "python",
   "name": "python3"
  },
  "language_info": {
   "codemirror_mode": {
    "name": "ipython",
    "version": 3
   },
   "file_extension": ".py",
   "mimetype": "text/x-python",
   "name": "python",
   "nbconvert_exporter": "python",
   "pygments_lexer": "ipython3",
   "version": "3.7.6"
  }
 },
 "nbformat": 4,
 "nbformat_minor": 4
}
