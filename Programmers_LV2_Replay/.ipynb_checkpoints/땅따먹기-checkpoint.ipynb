{
 "cells": [
  {
   "cell_type": "code",
   "execution_count": 1,
   "metadata": {},
   "outputs": [],
   "source": [
    "def solution(land):\n",
    "    for i in range(1, len(land)):\n",
    "        for j in range(0, 4):\n",
    "            if j == 0:\n",
    "                land[i][j] = max(land[i-1][1], land[i-1][2], land[i-1][3]) + land[i][j]\n",
    "            elif j == 1:\n",
    "                land[i][j] = max(land[i-1][0], land[i-1][2], land[i-1][3]) + land[i][j]\n",
    "            elif j == 2:\n",
    "                land[i][j] = max(land[i-1][0], land[i-1][1], land[i-1][3]) + land[i][j]\n",
    "            else:\n",
    "                land[i][j] = max(land[i-1][0], land[i-1][1], land[i-1][2]) + land[i][j]\n",
    "    return max(land[-1])"
   ]
  },
  {
   "cell_type": "code",
   "execution_count": null,
   "metadata": {},
   "outputs": [],
   "source": [
    "def solution(land):\n",
    "    for i in range(1, len(land)):\n",
    "        for j in range(0, 4):\n",
    "            land[i][j] = max(land[i-1][:j]+land[i-1][j+1:]) + land[i][j]\n",
    "    return max(land[-1])"
   ]
  }
 ],
 "metadata": {
  "hide_input": false,
  "kernelspec": {
   "display_name": "Python 3",
   "language": "python",
   "name": "python3"
  },
  "language_info": {
   "codemirror_mode": {
    "name": "ipython",
    "version": 3
   },
   "file_extension": ".py",
   "mimetype": "text/x-python",
   "name": "python",
   "nbconvert_exporter": "python",
   "pygments_lexer": "ipython3",
   "version": "3.7.6"
  }
 },
 "nbformat": 4,
 "nbformat_minor": 4
}
