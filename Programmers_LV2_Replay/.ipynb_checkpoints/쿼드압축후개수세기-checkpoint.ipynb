{
 "cells": [
  {
   "cell_type": "code",
   "execution_count": null,
   "metadata": {},
   "outputs": [],
   "source": [
    "zero, one = 0, 0\n",
    "\n",
    "def solution(arr):\n",
    "    recursive(arr, 0, 0, len(arr))\n",
    "    return [zero, one]\n",
    "\n",
    "def recursive(arr, a, b, l):\n",
    "    global zero, one\n",
    "    if l == 1:\n",
    "        if arr[a][b] == 0: zero+=1\n",
    "        else: one+=1\n",
    "        return\n",
    "    \n",
    "    val = arr[a][b]\n",
    "    flag = True\n",
    "    \n",
    "    \n",
    "    for i in range(a, a+l):\n",
    "        if flag:\n",
    "            for j in range(b, b+l):\n",
    "                if arr[i][j] != val:\n",
    "                    flag = False; break\n",
    "        else:\n",
    "            break\n",
    "    \n",
    "    if flag:\n",
    "        if val == 1: one += 1\n",
    "        else: zero += 1\n",
    "    else:\n",
    "        l = l//2\n",
    "        recursive(arr, a, b, l)\n",
    "        recursive(arr, a+l, b, l)\n",
    "        recursive(arr, a, b+l, l)\n",
    "        recursive(arr, a+l, b+l, l)"
   ]
  }
 ],
 "metadata": {
  "hide_input": false,
  "kernelspec": {
   "display_name": "Python 3",
   "language": "python",
   "name": "python3"
  },
  "language_info": {
   "codemirror_mode": {
    "name": "ipython",
    "version": 3
   },
   "file_extension": ".py",
   "mimetype": "text/x-python",
   "name": "python",
   "nbconvert_exporter": "python",
   "pygments_lexer": "ipython3",
   "version": "3.7.6"
  }
 },
 "nbformat": 4,
 "nbformat_minor": 4
}
