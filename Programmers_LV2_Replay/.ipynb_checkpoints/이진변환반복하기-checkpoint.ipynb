{
 "cells": [
  {
   "cell_type": "code",
   "execution_count": null,
   "metadata": {},
   "outputs": [],
   "source": [
    "def solution(s):\n",
    "    cnt, zero = 0, 0\n",
    "    while True:\n",
    "        if s == \"1\": return [cnt, zero]\n",
    "        cnt += 1\n",
    "        zero += (len(s) - s.count('1'))\n",
    "        s = bin(s.count('1'))[2:]"
   ]
  }
 ],
 "metadata": {
  "hide_input": false,
  "kernelspec": {
   "display_name": "Python 3",
   "language": "python",
   "name": "python3"
  },
  "language_info": {
   "codemirror_mode": {
    "name": "ipython",
    "version": 3
   },
   "file_extension": ".py",
   "mimetype": "text/x-python",
   "name": "python",
   "nbconvert_exporter": "python",
   "pygments_lexer": "ipython3",
   "version": "3.7.6"
  }
 },
 "nbformat": 4,
 "nbformat_minor": 4
}
