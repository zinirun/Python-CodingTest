{
 "cells": [
  {
   "cell_type": "code",
   "execution_count": null,
   "metadata": {},
   "outputs": [],
   "source": [
    "def solution(record):\n",
    "    p = []\n",
    "    nickname = {}\n",
    "    for i in record:\n",
    "        i_=i.split()\n",
    "        if i_[0] in ['Enter','Change']:\n",
    "            nickname[i_[1]] = i_[2]\n",
    "    for i in record:\n",
    "        i_=i.split()[:2]\n",
    "        if i_[0] == 'Enter':\n",
    "            p.append(f'{nickname[i_[1]]}님이 들어왔습니다.')\n",
    "        if i_[0] == 'Leave':\n",
    "            p.append(f'{nickname[i_[1]]}님이 나갔습니다.')\n",
    "    return p"
   ]
  }
 ],
 "metadata": {
  "hide_input": false,
  "kernelspec": {
   "display_name": "Python 3",
   "language": "python",
   "name": "python3"
  },
  "language_info": {
   "codemirror_mode": {
    "name": "ipython",
    "version": 3
   },
   "file_extension": ".py",
   "mimetype": "text/x-python",
   "name": "python",
   "nbconvert_exporter": "python",
   "pygments_lexer": "ipython3",
   "version": "3.7.6"
  }
 },
 "nbformat": 4,
 "nbformat_minor": 4
}
