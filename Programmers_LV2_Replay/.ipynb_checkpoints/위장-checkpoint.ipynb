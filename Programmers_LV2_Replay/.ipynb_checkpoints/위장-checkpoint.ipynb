{
 "cells": [
  {
   "cell_type": "code",
   "execution_count": 1,
   "metadata": {},
   "outputs": [
    {
     "name": "stdout",
     "output_type": "stream",
     "text": [
      "5\n"
     ]
    }
   ],
   "source": [
    "def solution(clothes):\n",
    "    answer = {}\n",
    "    for i in clothes:\n",
    "        if i[1] in answer:\n",
    "            answer[i[1]] += 1\n",
    "        else:\n",
    "            answer[i[1]] = 1\n",
    "\n",
    "    cnt = 1\n",
    "    for i in answer.values():\n",
    "        cnt *= (i+1)\n",
    "    return cnt - 1\n",
    "\n",
    "print(solution([['yellow_hat', 'headgear'], ['blue_sunglasses', 'eyewear'], ['green_turban', 'headgear']]))"
   ]
  },
  {
   "cell_type": "code",
   "execution_count": 2,
   "metadata": {},
   "outputs": [],
   "source": [
    "def solution(clothes):\n",
    "    d = {}\n",
    "    for i in clothes:\n",
    "        if i[1] in d:\n",
    "            d[i[1]]+=1\n",
    "        else:\n",
    "            d[i[1]]=1\n",
    "    cnt = 1\n",
    "    for i in d.values():\n",
    "        cnt *= (i+1)\n",
    "    return cnt - 1"
   ]
  },
  {
   "cell_type": "markdown",
   "metadata": {},
   "source": [
    "(i+1)씩 곱해서 1을 빼는 이유는 안입거나/1개입거나/2개입거나 ...를 곱한 후 아예 안입으면 안되므로 1을 빼주는것"
   ]
  }
 ],
 "metadata": {
  "hide_input": false,
  "kernelspec": {
   "display_name": "Python 3",
   "language": "python",
   "name": "python3"
  },
  "language_info": {
   "codemirror_mode": {
    "name": "ipython",
    "version": 3
   },
   "file_extension": ".py",
   "mimetype": "text/x-python",
   "name": "python",
   "nbconvert_exporter": "python",
   "pygments_lexer": "ipython3",
   "version": "3.7.6"
  }
 },
 "nbformat": 4,
 "nbformat_minor": 4
}
