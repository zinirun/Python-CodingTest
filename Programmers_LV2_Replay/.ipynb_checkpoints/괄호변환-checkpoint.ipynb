{
 "cells": [
  {
   "cell_type": "code",
   "execution_count": 1,
   "metadata": {},
   "outputs": [],
   "source": [
    "def solution(code):\n",
    "    part=''\n",
    "    result=''\n",
    "    for i in code:\n",
    "        part+=i\n",
    "        \n",
    "        code_open=part.count('(')\n",
    "        code_close=len(part)-code_open\n",
    "        \n",
    "        if code_open == code_close:\n",
    "            if part[0]==')':\n",
    "                part=part.translate(str.maketrans(')(','()'))\n",
    "            result+=part\n",
    "            part=''\n",
    "    return result"
   ]
  },
  {
   "cell_type": "code",
   "execution_count": null,
   "metadata": {},
   "outputs": [],
   "source": [
    "def divide(str):\n",
    "    op, cl = 0, 0\n",
    "    for i in range(len(str)):\n",
    "        if str[i] == '(': op += 1\n",
    "        else: cl += 1\n",
    "        if op == cl:\n",
    "            return str[:i+1], str[i+1:]\n",
    "\n",
    "def isBalanced(str):\n",
    "    cod = []\n",
    "    for i in str:\n",
    "        if i == '(': cod.append(i)\n",
    "        else:\n",
    "            if not cod: return False\n",
    "            cod.pop()\n",
    "    return True\n",
    "\n",
    "def solution(p):\n",
    "    if not p:\n",
    "        return ''\n",
    "    \n",
    "    u, v = divide(p)\n",
    "    if isBalanced(u):\n",
    "        return u + solution(v)\n",
    "    else:\n",
    "        cod = '(' + solution(v) + ')'\n",
    "        for i in u[1:len(u)-1]:\n",
    "            if i == '(': cod += ')'\n",
    "            else: cod += '('\n",
    "        return cod"
   ]
  }
 ],
 "metadata": {
  "hide_input": false,
  "kernelspec": {
   "display_name": "Python 3",
   "language": "python",
   "name": "python3"
  },
  "language_info": {
   "codemirror_mode": {
    "name": "ipython",
    "version": 3
   },
   "file_extension": ".py",
   "mimetype": "text/x-python",
   "name": "python",
   "nbconvert_exporter": "python",
   "pygments_lexer": "ipython3",
   "version": "3.7.6"
  }
 },
 "nbformat": 4,
 "nbformat_minor": 4
}
