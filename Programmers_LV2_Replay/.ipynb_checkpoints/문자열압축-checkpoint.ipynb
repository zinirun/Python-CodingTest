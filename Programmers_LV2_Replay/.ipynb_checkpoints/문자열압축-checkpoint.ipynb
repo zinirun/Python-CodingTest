{
 "cells": [
  {
   "cell_type": "code",
   "execution_count": 1,
   "metadata": {},
   "outputs": [],
   "source": [
    "def solution(s):\n",
    "    length = []\n",
    "    result = \"\"\n",
    "    \n",
    "    if len(s) == 1:\n",
    "        return 1\n",
    "    \n",
    "    for cut in range(1, len(s) // 2 + 1): \n",
    "        count = 1\n",
    "        tempStr = s[:cut] \n",
    "        for i in range(cut, len(s), cut):\n",
    "            if s[i:i+cut] == tempStr:\n",
    "                count += 1\n",
    "            else:\n",
    "                if count == 1:\n",
    "                    count = \"\"\n",
    "                result += str(count) + tempStr\n",
    "                tempStr = s[i:i+cut]\n",
    "                count = 1\n",
    "\n",
    "        if count == 1:\n",
    "            count = \"\"\n",
    "        result += str(count) + tempStr\n",
    "        length.append(len(result))\n",
    "        result = \"\"\n",
    "    \n",
    "    return min(length)"
   ]
  },
  {
   "cell_type": "code",
   "execution_count": null,
   "metadata": {},
   "outputs": [],
   "source": [
    "def solution(s):\n",
    "    c = []\n",
    "    c.append(s)\n",
    "    for i in range(1,len(s)):\n",
    "        arr = []\n",
    "        z = ''\n",
    "        cur = ''\n",
    "        same = 1\n",
    "        for j in range(0,len(s),i):\n",
    "            arr.append(s[j:j+i])\n",
    "        for k in range(0,len(arr)):\n",
    "            if k != len(arr)-1 and arr[k] == arr[k+1]:\n",
    "                cur = arr[k]\n",
    "                same += 1\n",
    "            else:\n",
    "                if same != 1:\n",
    "                    z+=cur+str(same)\n",
    "                    same = 1\n",
    "                else:\n",
    "                    z+=arr[k]\n",
    "        c.append(z)\n",
    "    return min(map(lambda x:len(x),c))"
   ]
  }
 ],
 "metadata": {
  "hide_input": false,
  "kernelspec": {
   "display_name": "Python 3",
   "language": "python",
   "name": "python3"
  },
  "language_info": {
   "codemirror_mode": {
    "name": "ipython",
    "version": 3
   },
   "file_extension": ".py",
   "mimetype": "text/x-python",
   "name": "python",
   "nbconvert_exporter": "python",
   "pygments_lexer": "ipython3",
   "version": "3.7.6"
  }
 },
 "nbformat": 4,
 "nbformat_minor": 4
}
