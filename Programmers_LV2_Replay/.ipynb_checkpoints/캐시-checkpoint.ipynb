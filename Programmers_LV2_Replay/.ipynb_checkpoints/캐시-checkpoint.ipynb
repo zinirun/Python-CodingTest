{
 "cells": [
  {
   "cell_type": "code",
   "execution_count": null,
   "metadata": {},
   "outputs": [],
   "source": [
    "def solution(cacheSize, cities):\n",
    "    c = []\n",
    "    t = 0\n",
    "    if cacheSize==0: return 5*len(cities)\n",
    "    for i in cities:\n",
    "        if i.lower() in c:\n",
    "            t += 1\n",
    "            del c[c.index(i.lower())]\n",
    "            c.append(i.lower())\n",
    "        else:\n",
    "            t += 5\n",
    "            if len(c)+1>cacheSize:\n",
    "                del c[0]\n",
    "            c.append(i.lower())\n",
    "    return t"
   ]
  }
 ],
 "metadata": {
  "hide_input": false,
  "kernelspec": {
   "display_name": "Python 3",
   "language": "python",
   "name": "python3"
  },
  "language_info": {
   "codemirror_mode": {
    "name": "ipython",
    "version": 3
   },
   "file_extension": ".py",
   "mimetype": "text/x-python",
   "name": "python",
   "nbconvert_exporter": "python",
   "pygments_lexer": "ipython3",
   "version": "3.7.6"
  }
 },
 "nbformat": 4,
 "nbformat_minor": 4
}
