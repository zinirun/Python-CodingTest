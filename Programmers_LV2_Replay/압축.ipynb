{
 "cells": [
  {
   "cell_type": "code",
   "execution_count": null,
   "metadata": {},
   "outputs": [],
   "source": [
    "def solution(msg):\n",
    "    answer = []\n",
    "    dic = {}\n",
    "\n",
    "    for i in range(26):\n",
    "        dic[chr(65+i)] = i+1\n",
    "\n",
    "    w, c = 0, 0\n",
    "    while True:\n",
    "        c += 1\n",
    "        if c == len(msg):\n",
    "            answer.append(dic[msg[w:c]])\n",
    "            break\n",
    "        if msg[w:c+1] not in dic:\n",
    "            dic[msg[w:c+1]] = len(dic) + 1\n",
    "            answer.append(dic[msg[w:c]])\n",
    "            w = c\n",
    "\n",
    "    return answer"
   ]
  }
 ],
 "metadata": {
  "hide_input": false,
  "kernelspec": {
   "display_name": "Python 3",
   "language": "python",
   "name": "python3"
  },
  "language_info": {
   "codemirror_mode": {
    "name": "ipython",
    "version": 3
   },
   "file_extension": ".py",
   "mimetype": "text/x-python",
   "name": "python",
   "nbconvert_exporter": "python",
   "pygments_lexer": "ipython3",
   "version": "3.7.6"
  }
 },
 "nbformat": 4,
 "nbformat_minor": 4
}
