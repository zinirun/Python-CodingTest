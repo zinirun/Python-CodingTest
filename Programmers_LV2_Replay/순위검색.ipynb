{
 "cells": [
  {
   "cell_type": "code",
   "execution_count": 1,
   "metadata": {},
   "outputs": [],
   "source": [
    "def condParser(query):\n",
    "    parsed = query.split(' and ')\n",
    "    last = parsed[-1].split(' ')\n",
    "    return parsed[:-1] + last\n",
    "\n",
    "def solution(info, query):\n",
    "    ret = [0]*len(query)\n",
    "    \n",
    "    for queryIdx, q in enumerate(query):\n",
    "        cond = condParser(q)\n",
    "        passCnt = len(info)\n",
    "        for inf in info:\n",
    "            for infIdx, i in enumerate(inf.split(' ')):\n",
    "                if infIdx == 4:\n",
    "                    if int(i) < int(cond[infIdx]):\n",
    "                        passCnt -= 1; break\n",
    "                else:\n",
    "                    if cond[infIdx] != '-':\n",
    "                        if i != cond[infIdx]:\n",
    "                            passCnt -= 1; break\n",
    "        ret[queryIdx] = passCnt\n",
    "    return ret"
   ]
  },
  {
   "cell_type": "markdown",
   "metadata": {},
   "source": [
    "시간초과"
   ]
  },
  {
   "cell_type": "code",
   "execution_count": null,
   "metadata": {},
   "outputs": [],
   "source": []
  }
 ],
 "metadata": {
  "hide_input": false,
  "kernelspec": {
   "display_name": "Python 3",
   "language": "python",
   "name": "python3"
  },
  "language_info": {
   "codemirror_mode": {
    "name": "ipython",
    "version": 3
   },
   "file_extension": ".py",
   "mimetype": "text/x-python",
   "name": "python",
   "nbconvert_exporter": "python",
   "pygments_lexer": "ipython3",
   "version": "3.7.6"
  }
 },
 "nbformat": 4,
 "nbformat_minor": 4
}
