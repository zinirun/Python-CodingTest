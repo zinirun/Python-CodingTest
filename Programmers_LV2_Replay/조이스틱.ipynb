{
 "cells": [
  {
   "cell_type": "code",
   "execution_count": 1,
   "metadata": {},
   "outputs": [],
   "source": [
    "def solution(name):\n",
    "    list = [min(ord(s) - ord('A'), ord('Z') - ord(s) + 1) for s in name]\n",
    "    answer = 0\n",
    "    locat = 0\n",
    "    while 1:\n",
    "        answer += list[locat]\n",
    "        list[locat] = 0\n",
    "        if sum(list) == 0: break\n",
    "        left = 1\n",
    "        right = 1\n",
    "        while list[locat + right] == 0:\n",
    "            right += 1\n",
    "        while list[locat - left] == 0:\n",
    "            left += 1\n",
    "        if left >= right:\n",
    "            locat += right\n",
    "            answer += right\n",
    "        else:\n",
    "            locat -= left\n",
    "            answer += left\n",
    "\n",
    "    return answer"
   ]
  },
  {
   "cell_type": "code",
   "execution_count": null,
   "metadata": {},
   "outputs": [],
   "source": [
    "def solution(name):\n",
    "    l = [min(ord(s) - ord('A'), ord('Z') - ord(s) + 1) for s in name]\n",
    "    ret, idx = 0, 0\n",
    "    while True:\n",
    "        ret += l[idx]\n",
    "        l[idx] = 0\n",
    "        \n",
    "        if sum(l) == 0: break\n",
    "        \n",
    "        left, right = 1, 1\n",
    "        \n",
    "        while l[idx + right] == 0: right += 1\n",
    "        while l[idx - left] == 0: left += 1\n",
    "        \n",
    "        if left > right: idx += right; ret += right\n",
    "        else: idx -= left; ret += left\n",
    "    return ret"
   ]
  }
 ],
 "metadata": {
  "hide_input": false,
  "kernelspec": {
   "display_name": "Python 3",
   "language": "python",
   "name": "python3"
  },
  "language_info": {
   "codemirror_mode": {
    "name": "ipython",
    "version": 3
   },
   "file_extension": ".py",
   "mimetype": "text/x-python",
   "name": "python",
   "nbconvert_exporter": "python",
   "pygments_lexer": "ipython3",
   "version": "3.7.6"
  }
 },
 "nbformat": 4,
 "nbformat_minor": 4
}
