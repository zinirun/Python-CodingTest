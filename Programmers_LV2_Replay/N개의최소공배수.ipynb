{
 "cells": [
  {
   "cell_type": "code",
   "execution_count": 1,
   "metadata": {},
   "outputs": [],
   "source": [
    "import math\n",
    "def lcm(a,b):\n",
    "    return a*b//math.gcd(a,b)\n",
    "def solution(arr):\n",
    "    if len(arr)==1: return arr[0]\n",
    "    s=lcm(arr[0], arr[1])\n",
    "    for i in range(2, len(arr)):\n",
    "        s=lcm(s, arr[i])\n",
    "    return s"
   ]
  },
  {
   "cell_type": "code",
   "execution_count": null,
   "metadata": {},
   "outputs": [],
   "source": [
    "import math\n",
    "def lcm(a,b):\n",
    "    return a*b//math.gcd(a,b)\n",
    "def solution(arr):\n",
    "    ans = 1\n",
    "    for i in arr:\n",
    "        ans = lcm(ans, i)\n",
    "    return ans"
   ]
  }
 ],
 "metadata": {
  "hide_input": false,
  "kernelspec": {
   "display_name": "Python 3",
   "language": "python",
   "name": "python3"
  },
  "language_info": {
   "codemirror_mode": {
    "name": "ipython",
    "version": 3
   },
   "file_extension": ".py",
   "mimetype": "text/x-python",
   "name": "python",
   "nbconvert_exporter": "python",
   "pygments_lexer": "ipython3",
   "version": "3.7.6"
  }
 },
 "nbformat": 4,
 "nbformat_minor": 4
}
