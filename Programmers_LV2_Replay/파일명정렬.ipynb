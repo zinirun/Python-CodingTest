{
 "cells": [
  {
   "cell_type": "code",
   "execution_count": null,
   "metadata": {},
   "outputs": [],
   "source": [
    "def solution(files):\n",
    "    files_to_sort=[]\n",
    "\n",
    "    for s in files:\n",
    "        HEAD=''\n",
    "        for char in s:\n",
    "            if char.isdigit():\n",
    "                break\n",
    "            HEAD+=char\n",
    "\n",
    "        NUMBER=''        \n",
    "        for char in s[len(HEAD):]:\n",
    "            if not char.isdigit():\n",
    "                break\n",
    "            NUMBER+=char\n",
    "\n",
    "        files_to_sort.append([HEAD.lower(),int(NUMBER),s])\n",
    "        \n",
    "    files_to_sort.sort(key=lambda x:(x[0],x[1]))\n",
    "    return [i[2] for i in files_to_sort]"
   ]
  }
 ],
 "metadata": {
  "hide_input": false,
  "kernelspec": {
   "display_name": "Python 3",
   "language": "python",
   "name": "python3"
  },
  "language_info": {
   "codemirror_mode": {
    "name": "ipython",
    "version": 3
   },
   "file_extension": ".py",
   "mimetype": "text/x-python",
   "name": "python",
   "nbconvert_exporter": "python",
   "pygments_lexer": "ipython3",
   "version": "3.7.6"
  }
 },
 "nbformat": 4,
 "nbformat_minor": 4
}
