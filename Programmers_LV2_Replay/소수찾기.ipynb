{
 "cells": [
  {
   "cell_type": "code",
   "execution_count": 1,
   "metadata": {},
   "outputs": [],
   "source": [
    "from itertools import permutations\n",
    "import math\n",
    "def solution(numbers):\n",
    "    p = list(numbers)\n",
    "    s = []\n",
    "    l = []\n",
    "    for i in range(1, len(p)+1):\n",
    "        l.append(list(map(''.join,permutations(p, i))))\n",
    "    for i in list(map(int, set(sum(l, [])))):\n",
    "        count = 0\n",
    "        if i != 0 and i != 1:\n",
    "            for j in range(2, int(math.sqrt(i))+1):\n",
    "                if i%j == 0:\n",
    "                    count += 1\n",
    "            if count == 0:\n",
    "                if i not in s: s.append(i)\n",
    "    return len(s)"
   ]
  },
  {
   "cell_type": "code",
   "execution_count": null,
   "metadata": {},
   "outputs": [],
   "source": [
    "from itertools import permutations as p\n",
    "def solution(numbers):\n",
    "    ret = 0\n",
    "    n = set()\n",
    "    for i in range(1, len(numbers)+1):\n",
    "        n.update(map(lambda x:int(''.join(x)),list(p(numbers,i))))\n",
    "    for i in n:\n",
    "        cnt = 0\n",
    "        if i not in [0, 1]:\n",
    "            for j in range(2, int(i**0.5) + 1):\n",
    "                if i % j == 0:\n",
    "                    cnt += 1\n",
    "            if cnt == 0: ret += 1\n",
    "    return ret"
   ]
  }
 ],
 "metadata": {
  "hide_input": false,
  "kernelspec": {
   "display_name": "Python 3",
   "language": "python",
   "name": "python3"
  },
  "language_info": {
   "codemirror_mode": {
    "name": "ipython",
    "version": 3
   },
   "file_extension": ".py",
   "mimetype": "text/x-python",
   "name": "python",
   "nbconvert_exporter": "python",
   "pygments_lexer": "ipython3",
   "version": "3.7.6"
  }
 },
 "nbformat": 4,
 "nbformat_minor": 4
}
