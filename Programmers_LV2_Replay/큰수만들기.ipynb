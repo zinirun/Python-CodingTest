{
 "cells": [
  {
   "cell_type": "code",
   "execution_count": null,
   "metadata": {},
   "outputs": [],
   "source": [
    "def solution(number, k):\n",
    "    collected = []\n",
    "    for i, num in enumerate(number):\n",
    "        while len(collected) > 0 and collected[-1] < num and k > 0:\n",
    "            collected.pop()\n",
    "            k -= 1\n",
    "        if k == 0:\n",
    "            collected += list(number[i:])\n",
    "            break\n",
    "        collected.append(num)\n",
    "    collected = collected[:-k] if k > 0 else collected\n",
    "    return ''.join(collected)"
   ]
  }
 ],
 "metadata": {
  "hide_input": false,
  "kernelspec": {
   "display_name": "Python 3",
   "language": "python",
   "name": "python3"
  },
  "language_info": {
   "codemirror_mode": {
    "name": "ipython",
    "version": 3
   },
   "file_extension": ".py",
   "mimetype": "text/x-python",
   "name": "python",
   "nbconvert_exporter": "python",
   "pygments_lexer": "ipython3",
   "version": "3.7.6"
  }
 },
 "nbformat": 4,
 "nbformat_minor": 4
}
