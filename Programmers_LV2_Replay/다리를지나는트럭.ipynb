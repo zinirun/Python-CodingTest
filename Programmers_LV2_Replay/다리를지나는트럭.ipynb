{
 "cells": [
  {
   "cell_type": "code",
   "execution_count": 1,
   "metadata": {},
   "outputs": [],
   "source": [
    "def solution(bridge_length, weight, truck_weights):\n",
    "    time = 0\n",
    "    on_bridge = []\n",
    "    on_time = []\n",
    "    \n",
    "    while(truck_weights or on_bridge) :\n",
    "        time += 1\n",
    "        if(on_time) :\n",
    "            if(on_time[0] + bridge_length == time) :\n",
    "                on_bridge.pop(0)\n",
    "                on_time.pop(0)\n",
    "        if(truck_weights) :\n",
    "            if(sum(on_bridge) + truck_weights[0] <= weight) :\n",
    "                on_bridge.append(truck_weights.pop(0))\n",
    "                on_time.append(time)\n",
    "    \n",
    "    return time"
   ]
  },
  {
   "cell_type": "code",
   "execution_count": null,
   "metadata": {},
   "outputs": [],
   "source": [
    "def solution(bridge_length, weight, truck):\n",
    "    time = 0\n",
    "    in_bridge = []\n",
    "    in_time = []\n",
    "    while(truck or in_bridge):\n",
    "        time += 1\n",
    "        if in_time and in_time[0] + bridge_length == time:\n",
    "                in_bridge.pop(0)\n",
    "                in_time.pop(0)\n",
    "        if truck and sum(in_bridge)+truck[0] <= weight:\n",
    "            in_bridge.append(truck.pop(0))\n",
    "            in_time.append(time)\n",
    "    return time"
   ]
  }
 ],
 "metadata": {
  "hide_input": false,
  "kernelspec": {
   "display_name": "Python 3",
   "language": "python",
   "name": "python3"
  },
  "language_info": {
   "codemirror_mode": {
    "name": "ipython",
    "version": 3
   },
   "file_extension": ".py",
   "mimetype": "text/x-python",
   "name": "python",
   "nbconvert_exporter": "python",
   "pygments_lexer": "ipython3",
   "version": "3.7.6"
  }
 },
 "nbformat": 4,
 "nbformat_minor": 4
}
