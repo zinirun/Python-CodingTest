{
 "cells": [
  {
   "cell_type": "code",
   "execution_count": null,
   "metadata": {},
   "outputs": [],
   "source": [
    "# 문제가 개편되었습니다. 이로 인해 함수 구성이나 테스트케이스가 변경되어, 과거의 코드는 동작하지 않을 수 있습니다.\n",
    "# 새로운 함수 구성을 적용하려면 [코드 초기화] 버튼을 누르세요. 단, [코드 초기화] 버튼을 누르면 작성 중인 코드는 사라집니다.\n",
    "import math as m\n",
    "def solution(progresses, speeds):\n",
    "    deploy = [m.ceil((100-p)/s) for p,s in zip(progresses, speeds)]\n",
    "    a = []\n",
    "    cnt = 1\n",
    "    q = deploy.pop(0)\n",
    "    while(deploy):\n",
    "        if q >= deploy[0]:\n",
    "            deploy.pop(0)\n",
    "            cnt += 1\n",
    "            continue\n",
    "        else:\n",
    "            q = deploy.pop(0)\n",
    "            a.append(cnt)\n",
    "            cnt = 1\n",
    "    a.append(cnt)\n",
    "    return a"
   ]
  }
 ],
 "metadata": {
  "hide_input": false,
  "kernelspec": {
   "display_name": "Python 3",
   "language": "python",
   "name": "python3"
  },
  "language_info": {
   "codemirror_mode": {
    "name": "ipython",
    "version": 3
   },
   "file_extension": ".py",
   "mimetype": "text/x-python",
   "name": "python",
   "nbconvert_exporter": "python",
   "pygments_lexer": "ipython3",
   "version": "3.7.6"
  }
 },
 "nbformat": 4,
 "nbformat_minor": 4
}
