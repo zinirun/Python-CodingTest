{
 "cells": [
  {
   "cell_type": "code",
   "execution_count": 1,
   "metadata": {},
   "outputs": [],
   "source": [
    "#1번 수포자 패턴: 12345\n",
    "#2번 수포자 패턴 21 23 24 25\n",
    "#3번 수포자 패턴: 33 11 22 44 55\n",
    "\n",
    "def solution(answers):\n",
    "    score = [0, 0, 0]\n",
    "    answer = []\n",
    "    c1 = [1, 2, 3, 4, 5]\n",
    "    c2 = [2, 1, 2, 3, 2, 4, 2, 5]\n",
    "    c3 = [3, 3, 1, 1, 2, 2, 4, 4, 5, 5]\n",
    "    for i in range(len(answers)):\n",
    "        if answers[i] == c1[i%5]:\n",
    "            score[0] += 1\n",
    "        if answers[i] == c2[i%8]:\n",
    "            score[1] += 1\n",
    "        if answers[i] == c3[i%10]:\n",
    "            score[2] += 1\n",
    "    print(score)\n",
    "    for i in range(len(score)):\n",
    "        if score[i] == max(score):\n",
    "            answer.append(i+1)\n",
    "    return sorted(answer)"
   ]
  },
  {
   "cell_type": "code",
   "execution_count": null,
   "metadata": {},
   "outputs": [],
   "source": [
    "def solution(answers):\n",
    "    answer = []\n",
    "    scores = [0]*3\n",
    "    c1 = [1,2,3,4,5]\n",
    "    c2 = [2,1,2,3,2,4,2,5]\n",
    "    c3 = [3,3,1,1,2,2,4,4,5,5]\n",
    "    for idx, a in enumerate(answers):\n",
    "        if c1[idx%5] == a:\n",
    "            scores[0]+=1\n",
    "        if c2[idx%8] == a:\n",
    "            scores[1]+=1\n",
    "        if c3[idx%10] == a:\n",
    "            scores[2]+=1\n",
    "    for idx, s in enumerate(scores):\n",
    "        if s == max(scores):\n",
    "            answer.append(idx+1)\n",
    "    return sorted(answer)"
   ]
  }
 ],
 "metadata": {
  "hide_input": false,
  "kernelspec": {
   "display_name": "Python 3",
   "language": "python",
   "name": "python3"
  },
  "language_info": {
   "codemirror_mode": {
    "name": "ipython",
    "version": 3
   },
   "file_extension": ".py",
   "mimetype": "text/x-python",
   "name": "python",
   "nbconvert_exporter": "python",
   "pygments_lexer": "ipython3",
   "version": "3.7.6"
  }
 },
 "nbformat": 4,
 "nbformat_minor": 4
}
