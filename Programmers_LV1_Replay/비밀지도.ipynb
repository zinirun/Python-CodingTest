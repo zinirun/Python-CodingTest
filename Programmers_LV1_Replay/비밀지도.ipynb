{
 "cells": [
  {
   "cell_type": "code",
   "execution_count": 1,
   "metadata": {},
   "outputs": [],
   "source": [
    "def solution(n, arr1, arr2):\n",
    "    puzzle = list(map(str,[bin(arr1[i] | arr2[i])[2:].zfill(n) for i in range(n)]))\n",
    "    return [i.replace('1','#').replace('0',' ') for i in puzzle]"
   ]
  },
  {
   "cell_type": "code",
   "execution_count": null,
   "metadata": {},
   "outputs": [],
   "source": [
    "def solution(n, arr1, arr2):\n",
    "    p = [bin(arr1[i] | arr2[i])[2:].zfill(n) for i in range(n)]\n",
    "    return list(map(lambda x:x.replace('1','#').replace('0',' '),p))"
   ]
  }
 ],
 "metadata": {
  "hide_input": false,
  "kernelspec": {
   "display_name": "Python 3",
   "language": "python",
   "name": "python3"
  },
  "language_info": {
   "codemirror_mode": {
    "name": "ipython",
    "version": 3
   },
   "file_extension": ".py",
   "mimetype": "text/x-python",
   "name": "python",
   "nbconvert_exporter": "python",
   "pygments_lexer": "ipython3",
   "version": "3.7.6"
  }
 },
 "nbformat": 4,
 "nbformat_minor": 4
}
