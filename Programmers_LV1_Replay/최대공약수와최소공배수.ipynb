{
 "cells": [
  {
   "cell_type": "code",
   "execution_count": null,
   "metadata": {},
   "outputs": [],
   "source": [
    "def solution(n, m):\n",
    "    return [gcd(n,m), lcm(n,m)]\n",
    "\n",
    "def gcd(a,b):\n",
    "    while(b!=0): a, b = b, a%b\n",
    "    return abs(a)\n",
    "\n",
    "def lcm(a,b):\n",
    "    v = gcd(a,b)\n",
    "    if(v==0): return 0\n",
    "    return abs((a*b)/v)"
   ]
  }
 ],
 "metadata": {
  "hide_input": false,
  "kernelspec": {
   "display_name": "Python 3",
   "language": "python",
   "name": "python3"
  },
  "language_info": {
   "codemirror_mode": {
    "name": "ipython",
    "version": 3
   },
   "file_extension": ".py",
   "mimetype": "text/x-python",
   "name": "python",
   "nbconvert_exporter": "python",
   "pygments_lexer": "ipython3",
   "version": "3.7.6"
  }
 },
 "nbformat": 4,
 "nbformat_minor": 4
}
