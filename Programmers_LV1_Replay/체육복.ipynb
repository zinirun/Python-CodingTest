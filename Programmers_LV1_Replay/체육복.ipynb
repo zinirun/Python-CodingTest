{
 "cells": [
  {
   "cell_type": "code",
   "execution_count": null,
   "metadata": {},
   "outputs": [],
   "source": [
    "def solution(n, lost, reserve):\n",
    "    _reserve = [r for r in reserve if r not in lost]      #도난후에 진짜로 여분이 있는 학생들 list\n",
    "    _lost = [l for l in lost if l not in reserve]         #여분이 있어 도난후에 1이 되는 애들말고 진짜 0인 애들\n",
    "\n",
    "    for r in _reserve:                                    #여분이 있는 학생들의 번호 -1과 +1을 해서 잃어버린 애들이 있으면 빌려줌\n",
    "        f = r - 1                                         \n",
    "        b = r + 1\n",
    "        if f in _lost:                                    # 빌려줬기때문에 lost list에서 삭제\n",
    "            _lost.remove(f)\n",
    "        elif b in _lost:\n",
    "            _lost.remove(b)\n",
    "    return n - len(_lost)"
   ]
  }
 ],
 "metadata": {
  "hide_input": false,
  "kernelspec": {
   "display_name": "Python 3",
   "language": "python",
   "name": "python3"
  },
  "language_info": {
   "codemirror_mode": {
    "name": "ipython",
    "version": 3
   },
   "file_extension": ".py",
   "mimetype": "text/x-python",
   "name": "python",
   "nbconvert_exporter": "python",
   "pygments_lexer": "ipython3",
   "version": "3.7.6"
  }
 },
 "nbformat": 4,
 "nbformat_minor": 4
}
