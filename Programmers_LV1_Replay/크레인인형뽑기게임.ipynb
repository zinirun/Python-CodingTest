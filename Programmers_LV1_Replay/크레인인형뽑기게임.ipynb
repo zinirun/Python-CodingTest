{
 "cells": [
  {
   "cell_type": "code",
   "execution_count": 1,
   "metadata": {},
   "outputs": [],
   "source": [
    "def solution(board, moves):\n",
    "    doll = []\n",
    "    for i in list(map(list, list(map(reversed, list(map(list, [i for i in zip(*board)])))))):\n",
    "        doll.append(list(filter(lambda x:x!=0, i)))\n",
    "    basket = []\n",
    "    pop_cnt = 0\n",
    "    for i in moves:\n",
    "        if doll[i-1]:\n",
    "            basket.append(doll[i-1].pop())\n",
    "            if len(basket) > 1 and basket[len(basket)-1] == basket[len(basket)-2]:\n",
    "                basket.pop()\n",
    "                basket.pop()\n",
    "                pop_cnt += 2\n",
    "        else:\n",
    "            continue\n",
    "    return pop_cnt"
   ]
  },
  {
   "cell_type": "code",
   "execution_count": null,
   "metadata": {},
   "outputs": [],
   "source": [
    "def solution(board, moves):\n",
    "    doll=[]\n",
    "    basket=[]\n",
    "    result=0\n",
    "    \n",
    "    for i in [list(x) for x in zip(*board)]:\n",
    "        t=[]\n",
    "        for j in reversed(i):\n",
    "            if j != 0:\n",
    "                t.append(j)\n",
    "        doll.append(t)\n",
    "    \n",
    "    for i in moves:\n",
    "        if len(doll[i-1]) > 0:\n",
    "            basket.append(doll[i-1].pop())\n",
    "        if len(basket)>1 and basket[len(basket)-1] == basket[len(basket)-2]:\n",
    "            result+=2\n",
    "            basket.pop(); basket.pop()\n",
    "    \n",
    "    return result"
   ]
  }
 ],
 "metadata": {
  "hide_input": false,
  "kernelspec": {
   "display_name": "Python 3",
   "language": "python",
   "name": "python3"
  },
  "language_info": {
   "codemirror_mode": {
    "name": "ipython",
    "version": 3
   },
   "file_extension": ".py",
   "mimetype": "text/x-python",
   "name": "python",
   "nbconvert_exporter": "python",
   "pygments_lexer": "ipython3",
   "version": "3.7.6"
  }
 },
 "nbformat": 4,
 "nbformat_minor": 4
}
