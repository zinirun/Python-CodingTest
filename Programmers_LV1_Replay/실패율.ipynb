{
 "cells": [
  {
   "cell_type": "code",
   "execution_count": 1,
   "metadata": {},
   "outputs": [
    {
     "name": "stdout",
     "output_type": "stream",
     "text": [
      "[3, 4, 2, 1, 5]\n"
     ]
    }
   ],
   "source": [
    "def solution(N, stages):\n",
    "    fail=[]\n",
    "    remain=len(stages)\n",
    "    for i in range(N):\n",
    "        if remain!=0:\n",
    "            p=stages.count(i+1)\n",
    "            fail.append((i+1,p/remain))\n",
    "            remain-=p\n",
    "        else:\n",
    "            fail.append((i+1,0))\n",
    "    return list(map(lambda x:x[0],sorted(fail,reverse=True,key=lambda x:x[1])))\n",
    "\n",
    "print(solution(5, [2, 1, 2, 6, 2, 4, 3, 3]))"
   ]
  },
  {
   "cell_type": "code",
   "execution_count": 2,
   "metadata": {},
   "outputs": [],
   "source": [
    "def solution(N, stages):\n",
    "    result = []\n",
    "    remain = len(stages)\n",
    "    for i in range(1,N+1):\n",
    "        if remain != 0:\n",
    "            s = stages.count(i)\n",
    "            result.append([i,s/remain])\n",
    "            remain -= s\n",
    "        else:\n",
    "            result.append([i,0])\n",
    "    result.sort(reverse=True, key=lambda x:x[1])\n",
    "    return [i[0] for i in result]        "
   ]
  }
 ],
 "metadata": {
  "hide_input": false,
  "kernelspec": {
   "display_name": "Python 3",
   "language": "python",
   "name": "python3"
  },
  "language_info": {
   "codemirror_mode": {
    "name": "ipython",
    "version": 3
   },
   "file_extension": ".py",
   "mimetype": "text/x-python",
   "name": "python",
   "nbconvert_exporter": "python",
   "pygments_lexer": "ipython3",
   "version": "3.7.6"
  }
 },
 "nbformat": 4,
 "nbformat_minor": 4
}
