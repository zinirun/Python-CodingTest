{
 "cells": [
  {
   "cell_type": "code",
   "execution_count": 1,
   "metadata": {},
   "outputs": [],
   "source": [
    "def solution(s):\n",
    "    a = ''\n",
    "    cnt = 0\n",
    "    for i, c in enumerate(s):\n",
    "        if c != ' ':\n",
    "            cnt += 1\n",
    "            if cnt%2==0: a+=c.lower()\n",
    "            else: a+=c.upper()\n",
    "        else:\n",
    "            cnt = 0\n",
    "            a+=' '\n",
    "    return a"
   ]
  },
  {
   "cell_type": "code",
   "execution_count": null,
   "metadata": {},
   "outputs": [],
   "source": [
    "def solution(s):\n",
    "    t = []\n",
    "    for w in s.split(' '):\n",
    "        d = ''\n",
    "        for i,a in enumerate(w):\n",
    "            if i%2==0: d+=a.upper()\n",
    "            else: d+=a.lower()\n",
    "        t.append(d)\n",
    "    return ' '.join(t)"
   ]
  }
 ],
 "metadata": {
  "hide_input": false,
  "kernelspec": {
   "display_name": "Python 3",
   "language": "python",
   "name": "python3"
  },
  "language_info": {
   "codemirror_mode": {
    "name": "ipython",
    "version": 3
   },
   "file_extension": ".py",
   "mimetype": "text/x-python",
   "name": "python",
   "nbconvert_exporter": "python",
   "pygments_lexer": "ipython3",
   "version": "3.7.6"
  }
 },
 "nbformat": 4,
 "nbformat_minor": 4
}
