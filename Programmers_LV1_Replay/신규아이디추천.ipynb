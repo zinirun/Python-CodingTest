{
 "cells": [
  {
   "cell_type": "code",
   "execution_count": null,
   "metadata": {},
   "outputs": [],
   "source": [
    "def solution(new_id):\n",
    "    t = ''\n",
    "    for idx, c in enumerate(new_id):\n",
    "        a = ''\n",
    "        if c.isupper():\n",
    "            a = c.lower()\n",
    "        if c in ['-','_','.'] or c.isdecimal() or c.islower():\n",
    "            a = c\n",
    "        if c == '.':\n",
    "            if len(t) > 0 and t[len(t)-1] == '.':\n",
    "                continue\n",
    "            a = c\n",
    "        t += a\n",
    "    if t[0] == '.':\n",
    "        if len(t)>1: t = t[1:]\n",
    "        else: t = ''\n",
    "    if len(t) > 1 and t[len(t)-1] == '.':\n",
    "        t = t[:len(t)-1]\n",
    "    if len(t) == 0:\n",
    "        t = 'a'\n",
    "    if len(t) > 15:\n",
    "        t = t[:15]\n",
    "        if t[len(t)-1] == '.':\n",
    "            t = t[:len(t)-1]\n",
    "    if len(t) < 3:\n",
    "        last = t[len(t)-1]\n",
    "        while len(t) < 3:\n",
    "            t += last\n",
    "    return t"
   ]
  }
 ],
 "metadata": {
  "hide_input": false,
  "kernelspec": {
   "display_name": "Python 3",
   "language": "python",
   "name": "python3"
  },
  "language_info": {
   "codemirror_mode": {
    "name": "ipython",
    "version": 3
   },
   "file_extension": ".py",
   "mimetype": "text/x-python",
   "name": "python",
   "nbconvert_exporter": "python",
   "pygments_lexer": "ipython3",
   "version": "3.7.6"
  }
 },
 "nbformat": 4,
 "nbformat_minor": 4
}
