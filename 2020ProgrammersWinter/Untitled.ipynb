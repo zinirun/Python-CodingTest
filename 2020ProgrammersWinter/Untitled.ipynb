{
 "cells": [
  {
   "cell_type": "code",
   "execution_count": 17,
   "metadata": {},
   "outputs": [],
   "source": [
    "def solution(n, delivery):\n",
    "    array = ['?']*n\n",
    "    delivery.sort(reverse=True,key=lambda x:x[2])\n",
    "    for x, y, d in delivery:\n",
    "        if d == 1:\n",
    "            array[x-1] = 'O'\n",
    "            array[y-1] = 'O'\n",
    "        if d == 0 and array[x-1]=='O':\n",
    "            array[y-1] = 'X'\n",
    "        if d == 0 and array[y-1]=='O':\n",
    "            array[x-1] = 'O'\n",
    "    return ''.join(array)"
   ]
  },
  {
   "cell_type": "code",
   "execution_count": 18,
   "metadata": {},
   "outputs": [
    {
     "data": {
      "text/plain": [
       "'O?O?X?'"
      ]
     },
     "execution_count": 18,
     "metadata": {},
     "output_type": "execute_result"
    }
   ],
   "source": [
    "solution(6,[[1,3,1],[3,5,0],[5,4,0],[2,5,0]])"
   ]
  },
  {
   "cell_type": "code",
   "execution_count": 19,
   "metadata": {},
   "outputs": [
    {
     "data": {
      "text/plain": [
       "'O?O?XXO'"
      ]
     },
     "execution_count": 19,
     "metadata": {},
     "output_type": "execute_result"
    }
   ],
   "source": [
    "solution(7,[[5,6,0],[1,3,1],[1,5,0],[7,6,0],[3,7,1],[2,5,0]])"
   ]
  },
  {
   "cell_type": "code",
   "execution_count": 132,
   "metadata": {},
   "outputs": [],
   "source": [
    "def pre_rotate(text, count):\n",
    "    if(count == 0): return text\n",
    "    if(count>0):\n",
    "        start_point = len(text)%count + 1\n",
    "        pre_text = text[start_point:] + text[:start_point]\n",
    "    else:\n",
    "        end_point = len(text) - len(text)%(-count) - 1\n",
    "        pre_text = text[end_point:] + text[:end_point]\n",
    "    return pre_text\n",
    "\n",
    "def pre_encrypted(text, key):\n",
    "    pre_text = ''\n",
    "    for idx, t in enumerate(text):\n",
    "        enc = ord(t)-(ord(key[idx])-96)\n",
    "        if(enc < 97):\n",
    "            enc += 26\n",
    "        pre_text += chr(enc)\n",
    "    return pre_text\n",
    "\n",
    "def solution(encrypted_text, key, rotation):\n",
    "    before_rotation = pre_rotate(encrypted_text, rotation)\n",
    "    before_encrypted = pre_encrypted(before_rotation, key)\n",
    "    return before_encrypted"
   ]
  },
  {
   "cell_type": "code",
   "execution_count": 133,
   "metadata": {},
   "outputs": [
    {
     "data": {
      "text/plain": [
       "'hellopython'"
      ]
     },
     "execution_count": 133,
     "metadata": {},
     "output_type": "execute_result"
    }
   ],
   "source": [
    "solution('qyyigoptvfb','abcdefghijk', 3)"
   ]
  },
  {
   "cell_type": "code",
   "execution_count": 137,
   "metadata": {},
   "outputs": [
    {
     "data": {
      "text/plain": [
       "'xyz'"
      ]
     },
     "execution_count": 137,
     "metadata": {},
     "output_type": "execute_result"
    }
   ],
   "source": [
    "solution('bac','dbc', 0)"
   ]
  },
  {
   "cell_type": "code",
   "execution_count": 145,
   "metadata": {},
   "outputs": [],
   "source": [
    "from collections import deque\n",
    "\n",
    "dx = [1, -1, 0, 0]\n",
    "dy = [0, 0, 1, -1]\n",
    "\n",
    "def solution(v):\n",
    "    def bfs(x, y):\n",
    "        q.append([x, y])\n",
    "        c[x][y] = cnt\n",
    "        while q:\n",
    "            x, y = q.popleft()\n",
    "            for i in range(4):\n",
    "                nx = x + dx[i]\n",
    "                ny = y + dy[i]\n",
    "                if 0 <= nx < n and 0 <= ny < n:\n",
    "                    if v[nx][ny] == v[x][y] and c[nx][ny] == 0:\n",
    "                        q.append([nx, ny])\n",
    "                        c[nx][ny] = 1\n",
    "\n",
    "    cnt = 0\n",
    "    q = deque()\n",
    "    n = len(v)\n",
    "    c = [[0]*n for _ in range(n)]\n",
    "    for i in range(n):\n",
    "        for j in range(n):\n",
    "            if c[i][j] == 0:\n",
    "                bfs(i, j)\n",
    "                cnt += 1\n",
    "    print(cnt)"
   ]
  },
  {
   "cell_type": "code",
   "execution_count": 146,
   "metadata": {},
   "outputs": [
    {
     "name": "stdout",
     "output_type": "stream",
     "text": [
      "5\n"
     ]
    }
   ],
   "source": [
    "solution([[0,0,1,1],[1,1,1,1],[2,2,2,1],[0,0,0,2]])"
   ]
  },
  {
   "cell_type": "code",
   "execution_count": null,
   "metadata": {},
   "outputs": [],
   "source": []
  }
 ],
 "metadata": {
  "hide_input": false,
  "kernelspec": {
   "display_name": "Python 3",
   "language": "python",
   "name": "python3"
  },
  "language_info": {
   "codemirror_mode": {
    "name": "ipython",
    "version": 3
   },
   "file_extension": ".py",
   "mimetype": "text/x-python",
   "name": "python",
   "nbconvert_exporter": "python",
   "pygments_lexer": "ipython3",
   "version": "3.7.6"
  }
 },
 "nbformat": 4,
 "nbformat_minor": 4
}
