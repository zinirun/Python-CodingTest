{
 "cells": [
  {
   "cell_type": "markdown",
   "metadata": {},
   "source": [
    "## 피보나치 수열 - DP(재귀)"
   ]
  },
  {
   "cell_type": "code",
   "execution_count": 4,
   "metadata": {},
   "outputs": [],
   "source": [
    "d=[0]*101\n",
    "def fibo(x):\n",
    "    if x in [1,2]: return 1\n",
    "    if d[x]!=0: return d[x]\n",
    "    else:\n",
    "        d[x]=fibo(x-1)+fibo(x-2)\n",
    "        return d[x]"
   ]
  },
  {
   "cell_type": "code",
   "execution_count": 5,
   "metadata": {},
   "outputs": [
    {
     "name": "stdout",
     "output_type": "stream",
     "text": [
      "354224848179261915075\n"
     ]
    }
   ],
   "source": [
    "print(fibo(100))"
   ]
  },
  {
   "cell_type": "markdown",
   "metadata": {},
   "source": [
    "## 피보나치 수열 - DP(반복문)"
   ]
  },
  {
   "cell_type": "code",
   "execution_count": 17,
   "metadata": {},
   "outputs": [],
   "source": [
    "d=[0,1,1]+[0]*98\n",
    "def fibo(x):\n",
    "    for i in range(3,x+1):\n",
    "        d[i]=d[i-1]+d[i-2]\n",
    "    return d[x]"
   ]
  },
  {
   "cell_type": "code",
   "execution_count": 19,
   "metadata": {},
   "outputs": [
    {
     "name": "stdout",
     "output_type": "stream",
     "text": [
      "354224848179261915075\n"
     ]
    }
   ],
   "source": [
    "print(fibo(100))"
   ]
  },
  {
   "cell_type": "markdown",
   "metadata": {},
   "source": [
    "-> 위 DP는 바텀업 - 대표적인 DP 테이블 방식"
   ]
  },
  {
   "cell_type": "markdown",
   "metadata": {},
   "source": [
    "## 1로 만들기"
   ]
  },
  {
   "cell_type": "code",
   "execution_count": 21,
   "metadata": {},
   "outputs": [
    {
     "name": "stdout",
     "output_type": "stream",
     "text": [
      "26\n",
      "3\n"
     ]
    }
   ],
   "source": [
    "x=int(input())\n",
    "d=[0]*30001\n",
    "\n",
    "for i in range(2, x+1):\n",
    "    d[i] = d[i-1]+1\n",
    "    if i%2==0: d[i]=min(d[i],d[i//2]+1)\n",
    "    if i%3==0: d[i]=min(d[i],d[i//3]+1)\n",
    "    if i%5==0: d[i]=min(d[i],d[i//5]+1)\n",
    "\n",
    "print(d[x])"
   ]
  },
  {
   "cell_type": "markdown",
   "metadata": {},
   "source": [
    "## 개미 전사"
   ]
  },
  {
   "cell_type": "code",
   "execution_count": 2,
   "metadata": {},
   "outputs": [
    {
     "name": "stdout",
     "output_type": "stream",
     "text": [
      "4\n",
      "1 3 1 5\n",
      "8\n"
     ]
    }
   ],
   "source": [
    "n=int(input())\n",
    "k=list(map(int,input().split()))\n",
    "d=[0]*1001\n",
    "d[0]=k[0]\n",
    "d[1]=max(k[0],k[1])\n",
    "for i in range(2,n):\n",
    "    d[i]=max(d[i-1],d[i-2]+k[i])\n",
    "print(d[n-1])"
   ]
  },
  {
   "cell_type": "markdown",
   "metadata": {},
   "source": [
    "## 바닥 공사 (2*n 타일링 변형)"
   ]
  },
  {
   "cell_type": "code",
   "execution_count": 34,
   "metadata": {},
   "outputs": [
    {
     "name": "stdout",
     "output_type": "stream",
     "text": [
      "100\n",
      "380755\n"
     ]
    }
   ],
   "source": [
    "n=int(input())\n",
    "mod=796796\n",
    "d=[1]+[3]+[0]*999\n",
    "for i in range(2,n):\n",
    "    d[i]=(d[i-1]+d[i-2]*2)%mod\n",
    "print(d[n-1])"
   ]
  },
  {
   "cell_type": "markdown",
   "metadata": {},
   "source": [
    "## 효율적인 화폐 구성"
   ]
  },
  {
   "cell_type": "code",
   "execution_count": 39,
   "metadata": {},
   "outputs": [
    {
     "name": "stdout",
     "output_type": "stream",
     "text": [
      "3 4\n",
      "3\n",
      "5\n",
      "7\n",
      "-1\n"
     ]
    }
   ],
   "source": [
    "n,m=map(int,input().split())\n",
    "array=[int(input()) for i in range(n)]\n",
    "d=[0]+[10001]*m\n",
    "for i in range(n):\n",
    "    for j in range(array[i],m+1):\n",
    "        d[j]=min(d[j], d[j-array[i]]+1)\n",
    "print(d[m] if d[m]!=10001 else -1)"
   ]
  },
  {
   "cell_type": "markdown",
   "metadata": {},
   "source": [
    "## 금광"
   ]
  },
  {
   "cell_type": "code",
   "execution_count": 46,
   "metadata": {},
   "outputs": [
    {
     "name": "stdout",
     "output_type": "stream",
     "text": [
      "2\n",
      "3 4\n",
      "1 3 3 2 2 1 4 1 0 6 4 7\n",
      "19\n",
      "4 4\n",
      "1 3 1 5 2 2 4 1 5 0 2 3 0 6 1 2\n",
      "20\n"
     ]
    }
   ],
   "source": [
    "t=int(input())\n",
    "for _ in range(t):\n",
    "    n,m=map(int,input().split())\n",
    "    raw_gold=list(map(int,input().split()))\n",
    "    gold = [raw_gold[i * m:(i + 1) * m] for i in range((len(raw_gold) + m - 1) // m)] \n",
    "    new_gold = list(map(list, zip(*gold)))\n",
    "\n",
    "    d=[max(new_gold[0])]+[0]*4001\n",
    "\n",
    "    for i in range(1,m):\n",
    "        d[i]=d[i-1]+max(new_gold[i])\n",
    "\n",
    "    print(d[m-1])"
   ]
  },
  {
   "cell_type": "code",
   "execution_count": 52,
   "metadata": {},
   "outputs": [
    {
     "name": "stdout",
     "output_type": "stream",
     "text": [
      "2\n",
      "3 4\n",
      "1 3 3 2 2 1 4 1 0 6 4 7\n",
      "19\n",
      "4 4\n",
      "1 3 1 5 2 2 4 1 5 0 2 3 0 6 1 2\n",
      "15\n"
     ]
    }
   ],
   "source": [
    "t=int(input())\n",
    "for _ in range(t):\n",
    "    n,m=map(int,input().split())\n",
    "    array=list(map(int,input().split()))\n",
    "\n",
    "    d=[]\n",
    "    idx=0\n",
    "    \n",
    "    # 리스트를 단위(n)로 쪼개기\n",
    "    for i in range(n):\n",
    "        d.append(array[idx:idx+m])\n",
    "        idx+=m\n",
    "\n",
    "    for j in range(1,m):\n",
    "        for i in range(n):\n",
    "            # 왼쪽 위에서 오는 경우, i가 0이면 젤 위에 있으므로 왼쪽 위에서 올 수 없음\n",
    "            if i==0: up=0\n",
    "            else: up=d[i-1][j-1]\n",
    "                \n",
    "            # 왼쪽 밑에서 오는 경우, i가 n-1이면 젤 밑에 있으므로 왼쪽 밑에서 올 수 없음\n",
    "            if i==n-1: down=0\n",
    "            else: down=d[i+1][j-1]\n",
    "\n",
    "            # 왼쪽 중간에서 오는 경우는 모두 가능\n",
    "            mid=d[i][j-1]\n",
    "\n",
    "            d[i][j]=d[i][j]+max(up,mid,down)\n",
    "\n",
    "    # dp 배열의 마지막 행의 값의 최대값이 정답\n",
    "    print(max(d[n-1]))"
   ]
  },
  {
   "cell_type": "markdown",
   "metadata": {},
   "source": [
    "## 정수 삼각형"
   ]
  },
  {
   "cell_type": "code",
   "execution_count": 54,
   "metadata": {},
   "outputs": [
    {
     "name": "stdout",
     "output_type": "stream",
     "text": [
      "5\n",
      "7\n",
      "3 8\n",
      "8 1 0\n",
      "2 7 4 4\n",
      "4 5 2 6 5\n",
      "30\n"
     ]
    }
   ],
   "source": [
    "n=int(input())\n",
    "d=[]\n",
    "for _ in range(n):\n",
    "    d.append(list(map(int,input().split())))\n",
    "    \n",
    "for i in range(n):\n",
    "    for j in range(len(d[i])):\n",
    "        if j==0: left=0\n",
    "        else: left=d[i-1][j-1]\n",
    "        \n",
    "        if j==len(d[i])-1: mid=0\n",
    "        else: mid=d[i-1][j]\n",
    "        \n",
    "        d[i][j]=d[i][j]+max(left,mid)\n",
    "\n",
    "print(max(d[n-1]))"
   ]
  },
  {
   "cell_type": "markdown",
   "metadata": {},
   "source": [
    "## 퇴사"
   ]
  },
  {
   "cell_type": "code",
   "execution_count": null,
   "metadata": {},
   "outputs": [],
   "source": []
  }
 ],
 "metadata": {
  "hide_input": false,
  "kernelspec": {
   "display_name": "Python 3",
   "language": "python",
   "name": "python3"
  },
  "language_info": {
   "codemirror_mode": {
    "name": "ipython",
    "version": 3
   },
   "file_extension": ".py",
   "mimetype": "text/x-python",
   "name": "python",
   "nbconvert_exporter": "python",
   "pygments_lexer": "ipython3",
   "version": "3.7.6"
  }
 },
 "nbformat": 4,
 "nbformat_minor": 4
}
